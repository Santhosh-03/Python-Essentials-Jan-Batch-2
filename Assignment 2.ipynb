{
 "cells": [
  {
   "cell_type": "markdown",
   "metadata": {},
   "source": [
    "### Question 1:\n",
    "### Write a Python program to remove empty List from List."
   ]
  },
  {
   "cell_type": "code",
   "execution_count": 4,
   "metadata": {},
   "outputs": [
    {
     "name": "stdout",
     "output_type": "stream",
     "text": [
      "Original list is :\n",
      " [3, 6, 6, [6, 8, 1, 3], [], 786, 45, 12, [], [], 78]\n",
      "After removing empty list :\n",
      " [3, 6, 6, [6, 8, 1, 3], 786, 45, 12, 78]\n"
     ]
    }
   ],
   "source": [
    "list1 = [3,6,6,[6,8,1,3],[],786,45,12,[],[],78]\n",
    "print('Original list is :\\n',str(list1))\n",
    "list2 = [ ele for ele in list1 if ele != []]\n",
    "print('After removing empty list :\\n',str(list2))"
   ]
  },
  {
   "cell_type": "markdown",
   "metadata": {},
   "source": [
    "### Question 2:\n",
    "### Write a Python program to remove all duplicates words from a given sentence"
   ]
  },
  {
   "cell_type": "code",
   "execution_count": 2,
   "metadata": {},
   "outputs": [],
   "source": [
    "from collections import Counter\n",
    "def duplicate_words(inp_str):\n",
    "    inp_str = inp_str.split(' ')\n",
    "    for i in range(0 , len(inp_str)):\n",
    "        inp_str[i] = ''.join(inp_str[i])\n",
    "    unique_words = Counter(inp_str)\n",
    "    s = ' '.join(unique_words.keys())\n",
    "    print(s)"
   ]
  },
  {
   "cell_type": "code",
   "execution_count": 3,
   "metadata": {},
   "outputs": [
    {
     "name": "stdout",
     "output_type": "stream",
     "text": [
      "How much wood would a woodchuck chuck if could\n"
     ]
    }
   ],
   "source": [
    "duplicate_words('How much wood would a woodchuck chuck if a woodchuck could chuck wood')"
   ]
  },
  {
   "cell_type": "markdown",
   "metadata": {},
   "source": [
    "### Question 3:\n",
    "### Write a Python program to find all occurrences of a character in the given string"
   ]
  },
  {
   "cell_type": "code",
   "execution_count": 1,
   "metadata": {},
   "outputs": [
    {
     "name": "stdout",
     "output_type": "stream",
     "text": [
      "Number of occourances of the charecters in the string Python Essentials  are :\n",
      " {'P': 1, 'y': 1, 't': 2, 'h': 1, 'o': 1, 'n': 2, ' ': 1, 'E': 1, 's': 3, 'e': 1, 'i': 1, 'a': 1, 'l': 1}\n"
     ]
    }
   ],
   "source": [
    "inp_str = 'Python Essentials'\n",
    "freq = {}\n",
    "for ele in inp_str:\n",
    "    if ele in freq:\n",
    "        freq[ele] += 1\n",
    "    else:\n",
    "        freq[ele] = 1\n",
    "print('Number of occourances of the charecters in the string',inp_str,' are :\\n',str(freq))"
   ]
  },
  {
   "cell_type": "code",
   "execution_count": null,
   "metadata": {},
   "outputs": [],
   "source": []
  }
 ],
 "metadata": {
  "kernelspec": {
   "display_name": "Python 3",
   "language": "python",
   "name": "python3"
  }
 },
 "nbformat": 4,
 "nbformat_minor": 4
}

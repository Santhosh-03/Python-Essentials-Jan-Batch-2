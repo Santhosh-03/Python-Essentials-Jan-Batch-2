{
 "cells": [
  {
   "cell_type": "markdown",
   "metadata": {},
   "source": [
    "### Question 1:\n",
    "### Write a Python program to print all Prime numbers in an Interval."
   ]
  },
  {
   "cell_type": "code",
   "execution_count": 34,
   "metadata": {},
   "outputs": [
    {
     "name": "stdout",
     "output_type": "stream",
     "text": [
      "Enter starting number: 1\n",
      "Enter ending number: 15\n",
      "Prime number between 1 and 15 are :\n",
      "2\n",
      "3\n",
      "5\n",
      "7\n",
      "11\n",
      "13\n"
     ]
    }
   ],
   "source": [
    "start_num = int(input(\"Enter starting number: \"))  \n",
    "end_num = int(input(\"Enter ending number: \"))  \n",
    "print('Prime number between',start_num,'and',end_num,'are :')  \n",
    "for num in range(start_num,end_num + 1):  \n",
    "   if num > 1:  \n",
    "       for i in range(2,num):  \n",
    "           if (num % i) == 0:  \n",
    "               break  \n",
    "       else:  \n",
    "           print(num)  "
   ]
  },
  {
   "cell_type": "markdown",
   "metadata": {},
   "source": [
    "### Question 2:\n",
    "### Write a Python Program for factorial of a number."
   ]
  },
  {
   "cell_type": "code",
   "execution_count": 18,
   "metadata": {},
   "outputs": [
    {
     "name": "stdout",
     "output_type": "stream",
     "text": [
      "Enter a number to find factorial :5\n",
      "Factorial of  5  is : 120\n"
     ]
    }
   ],
   "source": [
    "n = int(input('Enter a number to find factorial :'))\n",
    "fact = 1\n",
    "for i in range(1,n+1):\n",
    "    fact *=  i\n",
    "print('Factorial of ',n,' is :',fact)"
   ]
  },
  {
   "cell_type": "markdown",
   "metadata": {},
   "source": [
    "### Question 3:\n",
    "### Find the sum of n numbers by using the while loop"
   ]
  },
  {
   "cell_type": "code",
   "execution_count": 12,
   "metadata": {},
   "outputs": [
    {
     "name": "stdout",
     "output_type": "stream",
     "text": [
      "Enter a number :5\n",
      "Sum of number is : 15\n"
     ]
    }
   ],
   "source": [
    "n = int(input('Enter a number :'))\n",
    "total = 0;\n",
    "count = 0\n",
    "while(count <= n):\n",
    "    total += count\n",
    "    count += 1\n",
    "print('Sum of number is :',total)"
   ]
  },
  {
   "cell_type": "code",
   "execution_count": null,
   "metadata": {},
   "outputs": [],
   "source": []
  }
 ],
 "metadata": {
  "kernelspec": {
   "display_name": "Python 3",
   "language": "python",
   "name": "python3"
  },
  "language_info": {
   "codemirror_mode": {
    "name": "ipython",
    "version": 3
   },
   "file_extension": ".py",
   "mimetype": "text/x-python",
   "name": "python",
   "nbconvert_exporter": "python",
   "pygments_lexer": "ipython3",
   "version": "3.8.3"
  }
 },
 "nbformat": 4,
 "nbformat_minor": 4
}

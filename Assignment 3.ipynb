{
 "cells": [
  {
   "cell_type": "markdown",
   "metadata": {},
   "source": [
    "### Question 1:\n",
    "### Write a Python program to merge two files into a third file."
   ]
  },
  {
   "cell_type": "code",
   "execution_count": 3,
   "metadata": {},
   "outputs": [
    {
     "name": "stdout",
     "output_type": "stream",
     "text": [
      "This is LetsUpgrade\n"
     ]
    }
   ],
   "source": [
    "file1 = open('file1.txt','r')\n",
    "print(file1.read())"
   ]
  },
  {
   "cell_type": "code",
   "execution_count": 4,
   "metadata": {},
   "outputs": [
    {
     "name": "stdout",
     "output_type": "stream",
     "text": [
      "Welcome to python essentials\n"
     ]
    }
   ],
   "source": [
    "file2 = open('file2.txt','r')\n",
    "print(file2.read())"
   ]
  },
  {
   "cell_type": "code",
   "execution_count": 5,
   "metadata": {},
   "outputs": [],
   "source": [
    "file_name = ['file1.txt','file2.txt']\n",
    "\n",
    "with open('file3.txt','w') as outfile:\n",
    "    for name in file_name:\n",
    "        with open(name) as infile:\n",
    "            outfile.write(infile.read())\n",
    "        \n",
    "        outfile.write('\\n')"
   ]
  },
  {
   "cell_type": "code",
   "execution_count": 7,
   "metadata": {},
   "outputs": [
    {
     "name": "stdout",
     "output_type": "stream",
     "text": [
      "This is LetsUpgrade\n",
      "Welcome to python essentials\n",
      "\n"
     ]
    }
   ],
   "source": [
    "file3 = open('file3.txt','r')\n",
    "print(file3.read())"
   ]
  },
  {
   "cell_type": "markdown",
   "metadata": {},
   "source": [
    "### Question 2:\n",
    "\n",
    "### Take two lists as input list1 = [1,2,3,4,5] and list2 = [\"a\", \"b\", \"c\", \"d\", \"e\"] From that make a dictionary ouput {1:\"a\", 2:\"b\", 3:\"c\", 4:\"d\", 5:\"e\"}"
   ]
  },
  {
   "cell_type": "code",
   "execution_count": 10,
   "metadata": {},
   "outputs": [
    {
     "name": "stdout",
     "output_type": "stream",
     "text": [
      "List 1 is :  [1, 2, 3, 4, 5]\n",
      "List 2 is :  ['a', 'b', 'c', 'd', 'e']\n"
     ]
    }
   ],
   "source": [
    "list1 = [1,2,3,4,5]\n",
    "list2 = ['a','b','c','d','e']\n",
    "print('List 1 is : ',list1)\n",
    "print('List 2 is : ',list2)"
   ]
  },
  {
   "cell_type": "code",
   "execution_count": 11,
   "metadata": {},
   "outputs": [
    {
     "name": "stdout",
     "output_type": "stream",
     "text": [
      "{1: 'a', 2: 'b', 3: 'c', 4: 'd', 5: 'e'}\n"
     ]
    }
   ],
   "source": [
    "dic_t = dict(zip(list1,list2))\n",
    "print(dic_t)"
   ]
  },
  {
   "cell_type": "code",
   "execution_count": null,
   "metadata": {},
   "outputs": [],
   "source": []
  }
 ],
 "metadata": {
  "kernelspec": {
   "display_name": "Python 3",
   "language": "python",
   "name": "python3"
  },
  "language_info": {
   "codemirror_mode": {
    "name": "ipython",
    "version": 3
   },
   "file_extension": ".py",
   "mimetype": "text/x-python",
   "name": "python",
   "nbconvert_exporter": "python",
   "pygments_lexer": "ipython3",
   "version": "3.8.3"
  }
 },
 "nbformat": 4,
 "nbformat_minor": 4
}
